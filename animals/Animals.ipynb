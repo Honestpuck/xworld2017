{
 "cells": [
  {
   "cell_type": "markdown",
   "metadata": {},
   "source": [
    "## Animals\n",
    "\n",
    "We are going to write a text based program to guess the animal you are thinking of by asking you a number of questions.\n",
    "\n",
    "### Data\n",
    "\n",
    "Unlike other methods of writing a program we are going to start by thinking about the \"data\" or information we need to store and how we should store it.\n",
    "\n",
    "So we are going to need a list of animals. For each animal we need the name and a question that makes it distinctive from the previous animal in our list.\n",
    "\n",
    "Let's start with the first question. \"Does it live in the water?\"\n",
    "\n",
    "Then if the user says \"Yes\" we will point to the answer \"Dolphin\" and if they say \"No\" point to the answer \"Koala\".\n",
    "\n",
    "Hmmm. Maybe I was wrong. We don't have a list of *animals* we have a list of *questions* with each question pointing to two other points, each point either another question or an answer.\n",
    "\n"
   ]
  },
  {
   "cell_type": "code",
   "execution_count": 1,
   "metadata": {
    "collapsed": false
   },
   "outputs": [],
   "source": [
    "Questions=[[\"Does it live in the water\", \"Dolphin\", \"Koala\"]]"
   ]
  },
  {
   "cell_type": "code",
   "execution_count": 2,
   "metadata": {
    "collapsed": false
   },
   "outputs": [
    {
     "data": {
      "text/plain": [
       "[['Does it live in the water', 'Dolphin', 'Koala']]"
      ]
     },
     "execution_count": 2,
     "metadata": {},
     "output_type": "execute_result"
    }
   ],
   "source": [
    "Questions"
   ]
  },
  {
   "cell_type": "code",
   "execution_count": 3,
   "metadata": {
    "collapsed": false
   },
   "outputs": [
    {
     "data": {
      "text/plain": [
       "['Does it live in the water', 'Dolphin', 'Koala']"
      ]
     },
     "execution_count": 3,
     "metadata": {},
     "output_type": "execute_result"
    }
   ],
   "source": [
    "Questions[0]"
   ]
  },
  {
   "cell_type": "markdown",
   "metadata": {},
   "source": [
    "So what do we do if our program *doesn't* know the answer?\n",
    "\n",
    "Well, in that case we will ask the user to teach us. So we will ask for a question that decides between our guess an the correct answer and store that in our array. We will also have to move our guess in the array. Suppose the animal they were thinking of was \"Lion\". The question might be \"Is it a marsupial?\". At the end we will want something like this."
   ]
  },
  {
   "cell_type": "code",
   "execution_count": 4,
   "metadata": {
    "collapsed": true
   },
   "outputs": [],
   "source": [
    "Questions=[[\"Does it live in the water\", \"Dolphin\", \"1\"],[\"Is it a marsupial\", \"Koala\", \"Lion\"]]"
   ]
  },
  {
   "cell_type": "markdown",
   "metadata": {},
   "source": [
    "Notice that we have replaced \"Koala\" in the first entry with a number. This is where to find the next question :-"
   ]
  },
  {
   "cell_type": "code",
   "execution_count": 5,
   "metadata": {
    "collapsed": false
   },
   "outputs": [
    {
     "data": {
      "text/plain": [
       "['Is it a marsupial', 'Koala', 'Lion']"
      ]
     },
     "execution_count": 5,
     "metadata": {},
     "output_type": "execute_result"
    }
   ],
   "source": [
    "Questions[1]"
   ]
  },
  {
   "cell_type": "code",
   "execution_count": null,
   "metadata": {
    "collapsed": true
   },
   "outputs": [],
   "source": []
  }
 ],
 "metadata": {
  "kernelspec": {
   "display_name": "Python 2",
   "language": "python",
   "name": "python2"
  },
  "language_info": {
   "codemirror_mode": {
    "name": "ipython",
    "version": 2
   },
   "file_extension": ".py",
   "mimetype": "text/x-python",
   "name": "python",
   "nbconvert_exporter": "python",
   "pygments_lexer": "ipython2",
   "version": "2.7.12"
  }
 },
 "nbformat": 4,
 "nbformat_minor": 0
}
